{
 "cells": [
  {
   "cell_type": "markdown",
   "metadata": {},
   "source": [
    "## filtrado"
   ]
  },
  {
   "cell_type": "code",
   "execution_count": 1,
   "metadata": {},
   "outputs": [],
   "source": [
    "from obspy import read, read_inventory,UTCDateTime\n",
    "from obspy.geodetics.base import calc_vincenty_inverse, locations2degrees\n",
    "from obspy.taup.tau import TauPyModel\n",
    "import obspy\n",
    "import os"
   ]
  },
  {
   "cell_type": "code",
   "execution_count": 11,
   "metadata": {},
   "outputs": [],
   "source": [
    "## cargamos las carpetas asi, pero luego en la interfaz sera automatico\n",
    "ruta = os.getcwd()\n",
    "ruta_w = ruta + \"/\"+\"datos/FIJI ISLANDS REGION2018-8-19/waveforms\"\n",
    "ruta_s = ruta + \"/\"+\"datos/FIJI ISLANDS REGION2018-8-19/stations\"\n",
    "ruta_w = ruta_w.replace(\"/\",\"\\\\\")"
   ]
  },
  {
   "cell_type": "code",
   "execution_count": 12,
   "metadata": {},
   "outputs": [
    {
     "name": "stdout",
     "output_type": "stream",
     "text": [
      "D:\\Daniel\\Documents\\GitHub\\Proyecto-Python\\datos\\FIJI ISLANDS REGION2018-8-19\\waveforms\n"
     ]
    }
   ],
   "source": [
    "#leemos los archivos waveforms\n",
    "print(ruta_w)\n",
    "st = read(ruta_w+\"\\\\*.mseed\")"
   ]
  },
  {
   "cell_type": "code",
   "execution_count": 4,
   "metadata": {},
   "outputs": [],
   "source": [
    "#leemos los xml\n",
    "XML = os.listdir(ruta_s)\n",
    "XML = sorted(XML)"
   ]
  },
  {
   "cell_type": "code",
   "execution_count": 5,
   "metadata": {},
   "outputs": [],
   "source": [
    "c = 0\n",
    "# un filtro para frecuencias muy altas y bajas\n",
    "pre_filt = [0.001, 0.005, 10, 20]\n",
    "dist = []\n",
    "az = []\n",
    "baz = []\n",
    "canal = []\n",
    "great_circle = []\n",
    "arrivals = []\n",
    "taup = TauPyModel()"
   ]
  },
  {
   "cell_type": "code",
   "execution_count": 6,
   "metadata": {},
   "outputs": [
    {
     "data": {
      "text/plain": [
       "{'stats':          network: AU\n",
       "         station: KNRA\n",
       "        location: 00\n",
       "         channel: BHZ\n",
       "       starttime: 2018-08-19T00:18:40.675000Z\n",
       "         endtime: 2018-08-19T01:19:40.650000Z\n",
       "   sampling_rate: 40.0\n",
       "           delta: 0.025\n",
       "            npts: 146400\n",
       "           calib: 1.0\n",
       "         _format: MSEED\n",
       "           mseed: AttribDict({'dataquality': 'M', 'number_of_records': 600, 'encoding': 'STEIM1', 'byteorder': '>', 'record_length': 512, 'filesize': 307200}),\n",
       " 'data': array([ 2219,  2245,  2259, ..., 14253, 14232, 14208])}"
      ]
     },
     "execution_count": 6,
     "metadata": {},
     "output_type": "execute_result"
    }
   ],
   "source": [
    "st.traces[0].__dict__"
   ]
  },
  {
   "cell_type": "code",
   "execution_count": 7,
   "metadata": {},
   "outputs": [],
   "source": [
    "ruta_w = ruta_w.replace(\"waveforms\",\"info.txt\")\n",
    "archivo = open(ruta_w)\n",
    "array =[]\n",
    "for element in archivo:\n",
    "    array.append(element.replace(\"\\n\",\"\"))\n",
    "#lat\n",
    "#lon\n",
    "#time"
   ]
  },
  {
   "cell_type": "code",
   "execution_count": 8,
   "metadata": {},
   "outputs": [],
   "source": [
    "lat_e = float(array[0])\n",
    "lon_e = float(array[1])\n",
    "time = UTCDateTime(array[2])"
   ]
  },
  {
   "cell_type": "markdown",
   "metadata": {},
   "source": [
    "## Remove Respuesta Instrumento"
   ]
  },
  {
   "cell_type": "code",
   "execution_count": 9,
   "metadata": {},
   "outputs": [
    {
     "name": "stdout",
     "output_type": "stream",
     "text": [
      "D:\\Daniel\\Documents\\GitHub\\Proyecto-Python\\datos\\FIJI ISLANDS REGION2018-8-19\\stations\n"
     ]
    },
    {
     "name": "stderr",
     "output_type": "stream",
     "text": [
      "C:\\Users\\Daniel\\Anaconda3\\lib\\site-packages\\mkl_fft\\_numpy_fft.py:331: FutureWarning: Using a non-tuple sequence for multidimensional indexing is deprecated; use `arr[tuple(seq)]` instead of `arr[seq]`. In the future this will be interpreted as an array index, `arr[np.array(seq)]`, which will result either in an error or a different result.\n",
      "  output = mkl_fft.rfft_numpy(a, n=n, axis=axis)\n"
     ]
    }
   ],
   "source": [
    "ruta_w =  ruta_w.replace(\"info.txt\",\"stations\")\n",
    "print(ruta_w)\n",
    "os.chdir(ruta_w)\n",
    "\n",
    "for resp in XML:\n",
    "    inv = read_inventory(str(resp))\n",
    "    datachannel = inv.get_contents()\n",
    "    channel = datachannel['channels']\n",
    "    datacoor = inv.get_coordinates(channel[0], time)\n",
    "    coords = [datacoor['latitude'], datacoor['longitude'], datacoor['local_depth']]\n",
    "    [disti, azi, bazi] = calc_vincenty_inverse(\n",
    "        lat_e, lon_e, coords[0], coords[1])\n",
    "    greatcirc = locations2degrees(lat_e, lon_e, coords[0], coords[1])\n",
    "    dist.append(disti)\n",
    "    az.append(azi)\n",
    "    baz.append(bazi)\n",
    "    canal.append(channel[0])\n",
    "    bandera = True\n",
    "    i=0\n",
    "    for element in inv.get_response(inv.get_contents()[\"channels\"][0],time).__dict__['response_stages']:\n",
    "        if (type(element) is obspy.core.inventory.response.ResponseStage):\n",
    "            i+=1\n",
    "        if(i>1):\n",
    "            bandera = False\n",
    "    if(bandera):\n",
    "        st[c].remove_response(inventory=inv, pre_filt=pre_filt,output=\"VEL\", plot=False)\n",
    "    c += 1\n"
   ]
  },
  {
   "cell_type": "markdown",
   "metadata": {},
   "source": [
    "## filtrar para periodio onda P"
   ]
  },
  {
   "cell_type": "code",
   "execution_count": 10,
   "metadata": {},
   "outputs": [
    {
     "name": "stdout",
     "output_type": "stream",
     "text": [
      "D:\\Daniel\\Documents\\GitHub\\Proyecto-Python\\datos\\FIJI ISLANDS REGION2018-8-19\\stations\n"
     ]
    },
    {
     "ename": "IndexError",
     "evalue": "list index out of range",
     "output_type": "error",
     "traceback": [
      "\u001b[1;31m---------------------------------------------------------------------------\u001b[0m",
      "\u001b[1;31mIndexError\u001b[0m                                Traceback (most recent call last)",
      "\u001b[1;32m<ipython-input-10-81b42b8d14ba>\u001b[0m in \u001b[0;36m<module>\u001b[1;34m()\u001b[0m\n\u001b[0;32m     25\u001b[0m             \u001b[0mbandera\u001b[0m \u001b[1;33m=\u001b[0m \u001b[1;32mFalse\u001b[0m\u001b[1;33m\u001b[0m\u001b[0m\n\u001b[0;32m     26\u001b[0m     \u001b[1;32mif\u001b[0m\u001b[1;33m(\u001b[0m\u001b[0mbandera\u001b[0m\u001b[1;33m)\u001b[0m\u001b[1;33m:\u001b[0m\u001b[1;33m\u001b[0m\u001b[0m\n\u001b[1;32m---> 27\u001b[1;33m         \u001b[0mst\u001b[0m\u001b[1;33m[\u001b[0m\u001b[0mc\u001b[0m\u001b[1;33m]\u001b[0m\u001b[1;33m.\u001b[0m\u001b[0mfilter\u001b[0m\u001b[1;33m(\u001b[0m\u001b[1;34m'lowpass'\u001b[0m\u001b[1;33m,\u001b[0m \u001b[0mfreq\u001b[0m\u001b[1;33m=\u001b[0m\u001b[1;36m0.2\u001b[0m\u001b[1;33m,\u001b[0m \u001b[0mcorners\u001b[0m\u001b[1;33m=\u001b[0m\u001b[1;36m2\u001b[0m\u001b[1;33m,\u001b[0m \u001b[0mzerophase\u001b[0m\u001b[1;33m=\u001b[0m\u001b[1;32mTrue\u001b[0m\u001b[1;33m)\u001b[0m\u001b[1;33m\u001b[0m\u001b[0m\n\u001b[0m\u001b[0;32m     28\u001b[0m     \u001b[0mc\u001b[0m \u001b[1;33m+=\u001b[0m \u001b[1;36m1\u001b[0m\u001b[1;33m\u001b[0m\u001b[0m\n",
      "\u001b[1;32m~\\Anaconda3\\lib\\site-packages\\obspy\\core\\stream.py\u001b[0m in \u001b[0;36m__getitem__\u001b[1;34m(self, index)\u001b[0m\n\u001b[0;32m    659\u001b[0m             \u001b[1;32mreturn\u001b[0m \u001b[0mself\u001b[0m\u001b[1;33m.\u001b[0m\u001b[0m__class__\u001b[0m\u001b[1;33m(\u001b[0m\u001b[0mtraces\u001b[0m\u001b[1;33m=\u001b[0m\u001b[0mself\u001b[0m\u001b[1;33m.\u001b[0m\u001b[0mtraces\u001b[0m\u001b[1;33m.\u001b[0m\u001b[0m__getitem__\u001b[0m\u001b[1;33m(\u001b[0m\u001b[0mindex\u001b[0m\u001b[1;33m)\u001b[0m\u001b[1;33m)\u001b[0m\u001b[1;33m\u001b[0m\u001b[0m\n\u001b[0;32m    660\u001b[0m         \u001b[1;32melse\u001b[0m\u001b[1;33m:\u001b[0m\u001b[1;33m\u001b[0m\u001b[0m\n\u001b[1;32m--> 661\u001b[1;33m             \u001b[1;32mreturn\u001b[0m \u001b[0mself\u001b[0m\u001b[1;33m.\u001b[0m\u001b[0mtraces\u001b[0m\u001b[1;33m.\u001b[0m\u001b[0m__getitem__\u001b[0m\u001b[1;33m(\u001b[0m\u001b[0mindex\u001b[0m\u001b[1;33m)\u001b[0m\u001b[1;33m\u001b[0m\u001b[0m\n\u001b[0m\u001b[0;32m    662\u001b[0m \u001b[1;33m\u001b[0m\u001b[0m\n\u001b[0;32m    663\u001b[0m     \u001b[1;32mdef\u001b[0m \u001b[0m__delitem__\u001b[0m\u001b[1;33m(\u001b[0m\u001b[0mself\u001b[0m\u001b[1;33m,\u001b[0m \u001b[0mindex\u001b[0m\u001b[1;33m)\u001b[0m\u001b[1;33m:\u001b[0m\u001b[1;33m\u001b[0m\u001b[0m\n",
      "\u001b[1;31mIndexError\u001b[0m: list index out of range"
     ]
    }
   ],
   "source": [
    "ruta_w =  ruta_w.replace(\"info.txt\",\"stations\")\n",
    "print(ruta_w)\n",
    "os.chdir(ruta_w)\n",
    "os.chdir(ruta_w)\n",
    "for resp in XML:\n",
    "    inv = read_inventory(str(resp))\n",
    "    datachannel = inv.get_contents()\n",
    "    channel = datachannel['channels']\n",
    "    datacoor = inv.get_coordinates(channel[0], time)\n",
    "    coords = [datacoor['latitude'], datacoor['longitude'], datacoor['local_depth']]\n",
    "    [disti, azi, bazi] = calc_vincenty_inverse(\n",
    "        lat_e, lon_e, coords[0], coords[1])\n",
    "    greatcirc = locations2degrees(lat_e, lon_e, coords[0], coords[1])\n",
    "    dist.append(disti)\n",
    "    az.append(azi)\n",
    "    baz.append(bazi)\n",
    "    canal.append(channel[0])\n",
    "    bandera = True\n",
    "    i=0\n",
    "    for element in inv.get_response(inv.get_contents()[\"channels\"][0],time).__dict__['response_stages']:\n",
    "        ()\n",
    "        if (type(element) is obspy.core.inventory.response.ResponseStage):\n",
    "            i+=1\n",
    "        if(i>1):\n",
    "            bandera = False\n",
    "    if(bandera):\n",
    "        st[c].filter('lowpass', freq=0.2, corners=2, zerophase=True)\n",
    "    c += 1"
   ]
  },
  {
   "cell_type": "markdown",
   "metadata": {},
   "source": [
    "## Graficar "
   ]
  },
  {
   "cell_type": "code",
   "execution_count": null,
   "metadata": {},
   "outputs": [],
   "source": []
  }
 ],
 "metadata": {
  "kernelspec": {
   "display_name": "Python 3",
   "language": "python",
   "name": "python3"
  },
  "language_info": {
   "codemirror_mode": {
    "name": "ipython",
    "version": 3
   },
   "file_extension": ".py",
   "mimetype": "text/x-python",
   "name": "python",
   "nbconvert_exporter": "python",
   "pygments_lexer": "ipython3",
   "version": "3.7.0"
  }
 },
 "nbformat": 4,
 "nbformat_minor": 2
}
