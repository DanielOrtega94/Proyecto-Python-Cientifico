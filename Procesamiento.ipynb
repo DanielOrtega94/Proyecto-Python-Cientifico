{
 "cells": [
  {
   "cell_type": "markdown",
   "metadata": {},
   "source": [
    "## filtrado"
   ]
  },
  {
   "cell_type": "code",
   "execution_count": 1,
   "metadata": {},
   "outputs": [],
   "source": [
    "from obspy import read, read_inventory,UTCDateTime\n",
    "from obspy.geodetics.base import calc_vincenty_inverse, locations2degrees\n",
    "from obspy.taup.tau import TauPyModel\n",
    "import os"
   ]
  },
  {
   "cell_type": "code",
   "execution_count": 2,
   "metadata": {},
   "outputs": [],
   "source": [
    "## cargamos las carpetas asi, pero luego en la interfaz sera automatico\n",
    "ruta = os.getcwd()\n",
    "ruta_w = ruta + \"/\"+\"datos/FIJI ISLANDS REGION2018-8-19/waveforms\"\n",
    "ruta_s = ruta + \"/\"+\"datos/FIJI ISLANDS REGION2018-8-19/stations\"\n",
    "ruta_w = ruta_w.replace(\"/\",\"\\\\\")"
   ]
  },
  {
   "cell_type": "code",
   "execution_count": 3,
   "metadata": {},
   "outputs": [
    {
     "name": "stdout",
     "output_type": "stream",
     "text": [
      "D:\\Daniel\\Documents\\GitHub\\Proyecto-Python\\datos\\FIJI ISLANDS REGION2018-8-19\\waveforms\n"
     ]
    }
   ],
   "source": [
    "#leemos los archivos waveforms\n",
    "print(ruta_w)\n",
    "st = read(ruta_w+\"\\\\*.mseed\")"
   ]
  },
  {
   "cell_type": "code",
   "execution_count": 4,
   "metadata": {},
   "outputs": [],
   "source": [
    "#leemos los xml\n",
    "XML = os.listdir(ruta_s)\n",
    "XML = sorted(XML)"
   ]
  },
  {
   "cell_type": "code",
   "execution_count": 5,
   "metadata": {},
   "outputs": [],
   "source": [
    "c = 0\n",
    "# un filtro para frecuencias muy altas y bajas\n",
    "pre_filt = [0.001, 0.005, 10, 20]\n",
    "dist = []\n",
    "az = []\n",
    "baz = []\n",
    "canal = []\n",
    "great_circle = []\n",
    "arrivals = []\n",
    "taup = TauPyModel()"
   ]
  },
  {
   "cell_type": "code",
   "execution_count": 6,
   "metadata": {},
   "outputs": [
    {
     "data": {
      "text/plain": [
       "{'stats':          network: AU\n",
       "         station: KNRA\n",
       "        location: 00\n",
       "         channel: BHZ\n",
       "       starttime: 2018-08-19T00:18:40.675000Z\n",
       "         endtime: 2018-08-19T01:19:40.650000Z\n",
       "   sampling_rate: 40.0\n",
       "           delta: 0.025\n",
       "            npts: 146400\n",
       "           calib: 1.0\n",
       "         _format: MSEED\n",
       "           mseed: AttribDict({'dataquality': 'M', 'number_of_records': 600, 'encoding': 'STEIM1', 'byteorder': '>', 'record_length': 512, 'filesize': 307200}),\n",
       " 'data': array([ 2219,  2245,  2259, ..., 14253, 14232, 14208])}"
      ]
     },
     "execution_count": 6,
     "metadata": {},
     "output_type": "execute_result"
    }
   ],
   "source": [
    "st.traces[0].__dict__"
   ]
  },
  {
   "cell_type": "code",
   "execution_count": 7,
   "metadata": {},
   "outputs": [],
   "source": [
    "ruta_w = ruta_w.replace(\"waveforms\",\"info.txt\")\n",
    "archivo = open(ruta_w)\n",
    "array =[]\n",
    "for element in archivo:\n",
    "    array.append(element.replace(\"\\n\",\"\"))\n",
    "#lat\n",
    "#lon\n",
    "#time"
   ]
  },
  {
   "cell_type": "code",
   "execution_count": 8,
   "metadata": {},
   "outputs": [],
   "source": [
    "lat_e = float(array[0])\n",
    "lon_e = float(array[1])\n",
    "time = UTCDateTime(array[2])"
   ]
  },
  {
   "cell_type": "markdown",
   "metadata": {},
   "source": [
    "## Remove Respuesta Instrumento"
   ]
  },
  {
   "cell_type": "code",
   "execution_count": 9,
   "metadata": {},
   "outputs": [
    {
     "name": "stdout",
     "output_type": "stream",
     "text": [
      "D:\\Daniel\\Documents\\GitHub\\Proyecto-Python\\datos\\FIJI ISLANDS REGION2018-8-19\\stations\n",
      "AU.KNRA.xml\n",
      "dict_items([('networks', ['AU']), ('stations', ['AU.KNRA (Kunnunarra, WA)']), ('channels', ['AU.KNRA.00.BHZ'])])\n"
     ]
    },
    {
     "name": "stderr",
     "output_type": "stream",
     "text": [
      "C:\\Users\\Daniel\\Anaconda3\\lib\\site-packages\\mkl_fft\\_numpy_fft.py:331: FutureWarning: Using a non-tuple sequence for multidimensional indexing is deprecated; use `arr[tuple(seq)]` instead of `arr[seq]`. In the future this will be interpreted as an array index, `arr[np.array(seq)]`, which will result either in an error or a different result.\n",
      "  output = mkl_fft.rfft_numpy(a, n=n, axis=axis)\n"
     ]
    },
    {
     "name": "stdout",
     "output_type": "stream",
     "text": [
      "AU.PSA00.xml\n",
      "dict_items([('networks', ['AU']), ('stations', ['AU.PSA00 (Pilbara Seismic Array Element A0)']), ('channels', ['AU.PSA00.00.BHZ'])])\n",
      "AU.PSAA1.xml\n",
      "dict_items([('networks', ['AU']), ('stations', ['AU.PSAA1 (Pilbara Seismic Array Element A1)']), ('channels', ['AU.PSAA1.00.BHZ'])])\n",
      "AU.PSAA2.xml\n",
      "dict_items([('networks', ['AU']), ('stations', ['AU.PSAA2 (Pilbara Seismic Array Element A2)']), ('channels', ['AU.PSAA2.00.BHZ'])])\n",
      "AU.PSAA3.xml\n",
      "dict_items([('networks', ['AU']), ('stations', ['AU.PSAA3 (Pilbara Seismic Array Element A3)']), ('channels', ['AU.PSAA3.00.BHZ'])])\n",
      "AU.PSAB1.xml\n",
      "dict_items([('networks', ['AU']), ('stations', ['AU.PSAB1 (Pilbara Seismic Array Element B1)']), ('channels', ['AU.PSAB1.00.BHZ'])])\n",
      "AU.PSAB2.xml\n",
      "dict_items([('networks', ['AU']), ('stations', ['AU.PSAB2 (Pilbara Seismic Array Element B2)']), ('channels', ['AU.PSAB2.00.BHZ'])])\n",
      "AU.PSAD1.xml\n",
      "dict_items([('networks', ['AU']), ('stations', ['AU.PSAD1 (Pilbara Seismic Array Element D1)']), ('channels', ['AU.PSAD1.00.BHZ'])])\n",
      "AU.PSAD2.xml\n",
      "dict_items([('networks', ['AU']), ('stations', ['AU.PSAD2 (Pilbara Seismic Array Element D2)']), ('channels', ['AU.PSAD2.00.BHZ'])])\n",
      "AU.PSAD3.xml\n",
      "dict_items([('networks', ['AU']), ('stations', ['AU.PSAD3 (Pilbara Seismic Array Element D3)']), ('channels', ['AU.PSAD3.00.BHZ'])])\n",
      "BK.CMB.xml\n",
      "dict_items([('networks', ['BK']), ('stations', ['BK.CMB (Columbia College, Columbia, CA, USA)']), ('channels', ['BK.CMB.00.BHZ'])])\n",
      "BK.HUMO.xml\n",
      "dict_items([('networks', ['BK']), ('stations', ['BK.HUMO (Hull Mountain, OR, USA)']), ('channels', ['BK.HUMO.00.BHZ'])])\n",
      "BK.MCCM.xml\n",
      "dict_items([('networks', ['BK']), ('stations', ['BK.MCCM (Marconi Conference Center, Marshall, CA, USA)']), ('channels', ['BK.MCCM.00.BHZ'])])\n",
      "BK.SAO.xml\n",
      "dict_items([('networks', ['BK']), ('stations', ['BK.SAO (San Andreas Geophysical Obs., Hollister, CA, USA)']), ('channels', ['BK.SAO.00.BHZ'])])\n",
      "CI.PASC.xml\n",
      "dict_items([('networks', ['CI']), ('stations', ['CI.PASC (Art Center College of Design (GSN-affiliate))']), ('channels', ['CI.PASC.00.BHZ'])])\n",
      "G.AIS.xml\n",
      "dict_items([('networks', ['G']), ('stations', ['G.AIS (Nouvelle-Amsterdam - TAAF, France)']), ('channels', ['G.AIS.00.BHZ'])])\n",
      "G.CCD.xml\n",
      "dict_items([('networks', ['G']), ('stations', ['G.CCD (Concordia Base, Dome C, Antartica)']), ('channels', ['G.CCD.00.BHZ'])])\n",
      "G.COYC.xml\n",
      "dict_items([('networks', ['G']), ('stations', ['G.COYC (Coyhaique, Chile)']), ('channels', ['G.COYC.00.BHZ'])])\n",
      "G.DRV.xml\n",
      "dict_items([('networks', ['G']), ('stations', [\"G.DRV (Dumont d'Urville - Terre Adelie, Antarctica)\"]), ('channels', ['G.DRV.00.BHZ'])])\n",
      "G.INU.xml\n",
      "dict_items([('networks', ['G']), ('stations', ['G.INU (Inuyama, Japan)']), ('channels', ['G.INU.00.BHZ'])])\n",
      "G.PAF.xml\n",
      "dict_items([('networks', ['G']), ('stations', ['G.PAF (Port aux Francais - Kerguelen - TAAF, France)']), ('channels', ['G.PAF.00.BHZ'])])\n",
      "G.UNM.xml\n",
      "dict_items([('networks', ['G']), ('stations', ['G.UNM (Unam - Mexico, Mexico)']), ('channels', ['G.UNM.00.BHZ'])])\n",
      "HK.HKPS.xml\n",
      "dict_items([('networks', ['HK']), ('stations', ['HK.HKPS (Po Shan, Hong Kong)']), ('channels', ['HK.HKPS.00.BHZ'])])\n",
      "IC.BJT.xml\n",
      "dict_items([('networks', ['IC']), ('stations', ['IC.BJT (Baijiatuan, Beijing, China)']), ('channels', ['IC.BJT.00.BHZ'])])\n",
      "IC.ENH.xml\n",
      "dict_items([('networks', ['IC']), ('stations', ['IC.ENH (Enshi, Hubei Province, China)']), ('channels', ['IC.ENH.00.BHZ'])])\n",
      "IC.HIA.xml\n",
      "dict_items([('networks', ['IC']), ('stations', ['IC.HIA (Hailar, Neimenggu Autonomous Region, China)']), ('channels', ['IC.HIA.00.BHZ'])])\n",
      "IC.MDJ.xml\n",
      "dict_items([('networks', ['IC']), ('stations', ['IC.MDJ (Mudanjiang, Heilongjiang Province, China)']), ('channels', ['IC.MDJ.00.BHZ'])])\n",
      "IC.QIZ.xml\n",
      "dict_items([('networks', ['IC']), ('stations', ['IC.QIZ (Qiongzhong, Hainan Province, China\\n)']), ('channels', ['IC.QIZ.00.BHZ'])])\n",
      "II.COCO.xml\n",
      "dict_items([('networks', ['II']), ('stations', ['II.COCO (West Island, Cocos (Keeling) Islands)']), ('channels', ['II.COCO.00.BHZ'])])\n",
      "II.ERM.xml\n",
      "dict_items([('networks', ['II']), ('stations', ['II.ERM (Erimo, Hokkaido Island, Japan)']), ('channels', ['II.ERM.00.BHZ'])])\n",
      "II.KDAK.xml\n",
      "dict_items([('networks', ['II']), ('stations', ['II.KDAK (Kodiak Island, Alaska, USA)']), ('channels', ['II.KDAK.00.BHZ'])])\n",
      "II.PFO.xml\n",
      "dict_items([('networks', ['II']), ('stations', ['II.PFO (Pinon Flat, California, USA)']), ('channels', ['II.PFO.00.BHZ'])])\n",
      "II.RPN.xml\n",
      "dict_items([('networks', ['II']), ('stations', ['II.RPN (Rapanui, Easter Island, Chile)']), ('channels', ['II.RPN.00.BHZ'])])\n",
      "IU.ANMO.xml\n",
      "dict_items([('networks', ['IU']), ('stations', ['IU.ANMO (Albuquerque, New Mexico, USA)']), ('channels', ['IU.ANMO.00.BHZ'])])\n",
      "IU.BILL.xml\n",
      "dict_items([('networks', ['IU']), ('stations', ['IU.BILL (Bilibino, Russia)']), ('channels', ['IU.BILL.00.BHZ'])])\n",
      "IU.CASY.xml\n",
      "dict_items([('networks', ['IU']), ('stations', ['IU.CASY (Casey, Antarctica)']), ('channels', ['IU.CASY.00.BHZ'])])\n",
      "IU.COLA.xml\n",
      "dict_items([('networks', ['IU']), ('stations', ['IU.COLA (College Outpost, Alaska, USA)']), ('channels', ['IU.COLA.00.BHZ'])])\n",
      "IU.COR.xml\n",
      "dict_items([('networks', ['IU']), ('stations', ['IU.COR (Corvallis, Oregon, USA)']), ('channels', ['IU.COR.00.BHZ'])])\n",
      "IU.DAV.xml\n",
      "dict_items([('networks', ['IU']), ('stations', ['IU.DAV (Davao, Philippines)']), ('channels', ['IU.DAV.00.BHZ'])])\n",
      "IU.INCN.xml\n",
      "dict_items([('networks', ['IU']), ('stations', ['IU.INCN (Inchon, Republic of Korea)']), ('channels', ['IU.INCN.00.BHZ'])])\n",
      "IU.MA2.xml\n",
      "dict_items([('networks', ['IU']), ('stations', ['IU.MA2 (Magadan, Russia)']), ('channels', ['IU.MA2.00.BHZ'])])\n",
      "IU.MAJO.xml\n",
      "dict_items([('networks', ['IU']), ('stations', ['IU.MAJO (Matsushiro, Japan)']), ('channels', ['IU.MAJO.00.BHZ'])])\n",
      "IU.MBWA.xml\n",
      "dict_items([('networks', ['IU']), ('stations', ['IU.MBWA (Marble Bar, Western Australia)']), ('channels', ['IU.MBWA.00.BHZ'])])\n",
      "IU.NWAO.xml\n",
      "dict_items([('networks', ['IU']), ('stations', ['IU.NWAO (Narrogin, Australia)']), ('channels', ['IU.NWAO.00.BHZ'])])\n",
      "IU.PAYG.xml\n",
      "dict_items([('networks', ['IU']), ('stations', ['IU.PAYG (Puerto Ayora, Galapagos Islands)']), ('channels', ['IU.PAYG.00.BHZ'])])\n",
      "IU.PET.xml\n",
      "dict_items([('networks', ['IU']), ('stations', ['IU.PET (Petropavlovsk, Russia)']), ('channels', ['IU.PET.00.BHZ'])])\n",
      "IU.PMSA.xml\n",
      "dict_items([('networks', ['IU']), ('stations', ['IU.PMSA (Palmer Station, Antarctica)']), ('channels', ['IU.PMSA.00.BHZ'])])\n",
      "IU.QSPA.xml\n",
      "dict_items([('networks', ['IU']), ('stations', ['IU.QSPA (South Pole Remote Earth Science Observatory (Quiet Zone))']), ('channels', ['IU.QSPA.00.BHZ'])])\n",
      "IU.SLBS.xml\n",
      "dict_items([('networks', ['IU']), ('stations', ['IU.SLBS (Sierra la Laguna Baja California Sur, Mexico)']), ('channels', ['IU.SLBS.00.BHZ'])])\n",
      "IU.TATO.xml\n",
      "dict_items([('networks', ['IU']), ('stations', ['IU.TATO (Taipei, Taiwan)']), ('channels', ['IU.TATO.00.BHZ'])])\n",
      "IU.TUC.xml\n",
      "dict_items([('networks', ['IU']), ('stations', ['IU.TUC (Tucson, Arizona)']), ('channels', ['IU.TUC.00.BHZ'])])\n",
      "IU.YSS.xml\n",
      "dict_items([('networks', ['IU']), ('stations', ['IU.YSS (Yuzhno Sakhalinsk, Russia)']), ('channels', ['IU.YSS.00.BHZ'])])\n",
      "IW.DLMT.xml\n",
      "dict_items([('networks', ['IW']), ('stations', ['IW.DLMT (Dillon, Montana, USA)']), ('channels', ['IW.DLMT.00.BHZ'])])\n",
      "IW.FLWY.xml\n",
      "dict_items([('networks', ['IW']), ('stations', ['IW.FLWY (Flagg Ranch, Wyoming, USA)']), ('channels', ['IW.FLWY.00.BHZ'])])\n",
      "IW.FXWY.xml\n",
      "dict_items([('networks', ['IW']), ('stations', ['IW.FXWY (Fox Creek, Wyoming, USA)']), ('channels', ['IW.FXWY.00.BHZ'])])\n",
      "IW.IMW.xml\n",
      "dict_items([('networks', ['IW']), ('stations', ['IW.IMW (Indian Meadow, Wyoming, USA)']), ('channels', ['IW.IMW.00.BHZ'])])\n",
      "IW.LOHW.xml\n",
      "dict_items([('networks', ['IW']), ('stations', ['IW.LOHW (Long Hollow, Wyoming, USA)']), ('channels', ['IW.LOHW.00.BHZ'])])\n",
      "IW.MFID.xml\n",
      "dict_items([('networks', ['IW']), ('stations', ['IW.MFID (Near Bowns Crk and Slater Flat Rd, Idaho, USA)']), ('channels', ['IW.MFID.00.BHZ'])])\n",
      "IW.PHWY.xml\n",
      "dict_items([('networks', ['IW']), ('stations', ['IW.PHWY (Pilot Hill, Wyoming, USA)']), ('channels', ['IW.PHWY.00.BHZ'])])\n",
      "IW.REDW.xml\n",
      "dict_items([('networks', ['IW']), ('stations', ['IW.REDW (Red Top Meadow, Wyoming, USA)']), ('channels', ['IW.REDW.00.BHZ'])])\n",
      "IW.RWWY.xml\n",
      "dict_items([('networks', ['IW']), ('stations', ['IW.RWWY (Rawlins, Wyoming, USA)']), ('channels', ['IW.RWWY.00.BHZ'])])\n",
      "IW.SMCO.xml\n",
      "dict_items([('networks', ['IW']), ('stations', ['IW.SMCO (Snowmass, Colorado, USA)']), ('channels', ['IW.SMCO.00.BHZ'])])\n",
      "IW.SNOW.xml\n",
      "dict_items([('networks', ['IW']), ('stations', ['IW.SNOW (Snow King Mountain, Wyoming, USA)']), ('channels', ['IW.SNOW.00.BHZ'])])\n",
      "IW.TPAW.xml\n",
      "dict_items([('networks', ['IW']), ('stations', ['IW.TPAW (Teton Pass, Wyoming, USA)']), ('channels', ['IW.TPAW.00.BHZ'])])\n",
      "US.AHID.xml\n",
      "dict_items([('networks', ['US']), ('stations', ['US.AHID (Auburn Hatchery, Idaho, USA)']), ('channels', ['US.AHID.00.BHZ'])])\n",
      "US.AMTX.xml\n",
      "dict_items([('networks', ['US']), ('stations', ['US.AMTX (Amarillo, Texas, USA)']), ('channels', ['US.AMTX.00.BHZ'])])\n",
      "US.BMO.xml\n",
      "dict_items([('networks', ['US']), ('stations', ['US.BMO (Blue Mountains Array (Baker), Oregon, USA)']), ('channels', ['US.BMO.00.BHZ'])])\n",
      "US.BOZ.xml\n",
      "dict_items([('networks', ['US']), ('stations', ['US.BOZ (Bozeman, Montana, USA)']), ('channels', ['US.BOZ.00.BHZ'])])\n",
      "US.BW06.xml\n",
      "dict_items([('networks', ['US']), ('stations', ['US.BW06 (Boulder Array Site 6 (Pinedale Array Site 6), Wyoming, USA)']), ('channels', ['US.BW06.00.BHZ'])])\n",
      "US.DUG.xml\n",
      "dict_items([('networks', ['US']), ('stations', ['US.DUG (Dugway, Tooele County, Utah, USA)']), ('channels', ['US.DUG.00.BHZ'])])\n",
      "US.EGAK.xml\n",
      "dict_items([('networks', ['US']), ('stations', ['US.EGAK (Eagle, Central Alaska, Alaska, USA)']), ('channels', ['US.EGAK.00.BHZ'])])\n",
      "US.EGMT.xml\n",
      "dict_items([('networks', ['US']), ('stations', ['US.EGMT (Eagleton, Montana, USA)']), ('channels', ['US.EGMT.00.BHZ'])])\n",
      "US.ELK.xml\n",
      "dict_items([('networks', ['US']), ('stations', ['US.ELK (Elko, Nevada, USA)']), ('channels', ['US.ELK.00.BHZ'])])\n",
      "US.HAWA.xml\n",
      "dict_items([('networks', ['US']), ('stations', ['US.HAWA (Hanford, Washington, USA)']), ('channels', ['US.HAWA.00.BHZ'])])\n",
      "US.HLID.xml\n",
      "dict_items([('networks', ['US']), ('stations', ['US.HLID (Hailey, Idaho, USA)']), ('channels', ['US.HLID.00.BHZ'])])\n",
      "US.HWUT.xml\n",
      "dict_items([('networks', ['US']), ('stations', ['US.HWUT (Hardware Ranch, Cache County, Utah, USA)']), ('channels', ['US.HWUT.00.BHZ'])])\n",
      "US.ISCO.xml\n",
      "dict_items([('networks', ['US']), ('stations', ['US.ISCO (Idaho Springs, Colorado, USA)']), ('channels', ['US.ISCO.00.BHZ'])])\n",
      "US.JCT.xml\n",
      "dict_items([('networks', ['US']), ('stations', ['US.JCT (Junction, Texas, USA)']), ('channels', ['US.JCT.00.BHZ'])])\n",
      "US.LKWY.xml\n",
      "dict_items([('networks', ['US']), ('stations', ['US.LKWY (Lake (Yellowstone--Lake), Yellowstone National Park, Wyoming)']), ('channels', ['US.LKWY.00.BHZ'])])\n",
      "US.MNTX.xml\n",
      "dict_items([('networks', ['US']), ('stations', ['US.MNTX (Cornudas Mountains, Texas, USA)']), ('channels', ['US.MNTX.00.BHZ'])])\n",
      "US.MSO.xml\n",
      "dict_items([('networks', ['US']), ('stations', ['US.MSO (Missoula, Montana, USA)']), ('channels', ['US.MSO.00.BHZ'])])\n",
      "US.MVCO.xml\n",
      "dict_items([('networks', ['US']), ('stations', ['US.MVCO (Mesa Verde, Colorado, USA)']), ('channels', ['US.MVCO.00.BHZ'])])\n",
      "US.NEW.xml\n",
      "dict_items([('networks', ['US']), ('stations', ['US.NEW (Newport, Washington, USA)']), ('channels', ['US.NEW.00.BHZ'])])\n",
      "US.NLWA.xml\n",
      "dict_items([('networks', ['US']), ('stations', ['US.NLWA (Neilton Lookout, Washington, USA)']), ('channels', ['US.NLWA.00.BHZ'])])\n",
      "US.RLMT.xml\n",
      "dict_items([('networks', ['US']), ('stations', ['US.RLMT (Red Lodge, Montana, USA)']), ('channels', ['US.RLMT.00.BHZ'])])\n",
      "US.SDCO.xml\n",
      "dict_items([('networks', ['US']), ('stations', ['US.SDCO (Great Sand Dunes National Park, Colorado, USA)']), ('channels', ['US.SDCO.00.BHZ'])])\n",
      "US.TPNV.xml\n",
      "dict_items([('networks', ['US']), ('stations', ['US.TPNV (Topopah Spring, Nevada, USA)']), ('channels', ['US.TPNV.00.BHZ'])])\n",
      "US.WRAK.xml\n",
      "dict_items([('networks', ['US']), ('stations', ['US.WRAK (Wrangell Island, Southeastern Alaska, Alaska, USA)']), ('channels', ['US.WRAK.00.BHZ'])])\n",
      "US.WUAZ.xml\n",
      "dict_items([('networks', ['US']), ('stations', ['US.WUAZ (Wupatki, Arizona, USA)']), ('channels', ['US.WUAZ.00.BHZ'])])\n",
      "US.WVOR.xml\n",
      "dict_items([('networks', ['US']), ('stations', ['US.WVOR (Wild Horse Valley, Oregon, USA)']), ('channels', ['US.WVOR.00.BHZ'])])\n",
      "YB.MOJA.xml\n",
      "dict_items([('networks', ['YB']), ('stations', ['YB.MOJA (West end of line)']), ('channels', ['YB.MOJA.00.BHZ'])])\n"
     ]
    },
    {
     "ename": "TypeError",
     "evalue": "must be real number, not NoneType",
     "output_type": "error",
     "traceback": [
      "\u001b[1;31m---------------------------------------------------------------------------\u001b[0m",
      "\u001b[1;31mTypeError\u001b[0m                                 Traceback (most recent call last)",
      "\u001b[1;32m<ipython-input-9-3260de460929>\u001b[0m in \u001b[0;36m<module>\u001b[1;34m()\u001b[0m\n\u001b[0;32m     30\u001b[0m     \u001b[1;31m#print(inv.get_response(channel[0], time).__dict__['response_stages'][4])\u001b[0m\u001b[1;33m\u001b[0m\u001b[1;33m\u001b[0m\u001b[0m\n\u001b[0;32m     31\u001b[0m     \u001b[0mprint\u001b[0m\u001b[1;33m(\u001b[0m\u001b[0minv\u001b[0m\u001b[1;33m.\u001b[0m\u001b[0mget_contents\u001b[0m\u001b[1;33m(\u001b[0m\u001b[1;33m)\u001b[0m\u001b[1;33m.\u001b[0m\u001b[0mitems\u001b[0m\u001b[1;33m(\u001b[0m\u001b[1;33m)\u001b[0m\u001b[1;33m)\u001b[0m\u001b[1;33m\u001b[0m\u001b[0m\n\u001b[1;32m---> 32\u001b[1;33m     \u001b[0mst\u001b[0m\u001b[1;33m[\u001b[0m\u001b[0mc\u001b[0m\u001b[1;33m]\u001b[0m\u001b[1;33m.\u001b[0m\u001b[0mremove_response\u001b[0m\u001b[1;33m(\u001b[0m\u001b[0minventory\u001b[0m\u001b[1;33m=\u001b[0m\u001b[0minv\u001b[0m\u001b[1;33m,\u001b[0m \u001b[0mpre_filt\u001b[0m\u001b[1;33m=\u001b[0m\u001b[0mpre_filt\u001b[0m\u001b[1;33m,\u001b[0m\u001b[0moutput\u001b[0m\u001b[1;33m=\u001b[0m\u001b[1;34m\"VEL\"\u001b[0m\u001b[1;33m,\u001b[0m \u001b[0mplot\u001b[0m\u001b[1;33m=\u001b[0m\u001b[1;32mFalse\u001b[0m\u001b[1;33m)\u001b[0m\u001b[1;33m\u001b[0m\u001b[0m\n\u001b[0m\u001b[0;32m     33\u001b[0m     \u001b[1;31m# aplicar un lowpass\u001b[0m\u001b[1;33m\u001b[0m\u001b[1;33m\u001b[0m\u001b[0m\n\u001b[0;32m     34\u001b[0m     \u001b[0mst\u001b[0m\u001b[1;33m[\u001b[0m\u001b[0mc\u001b[0m\u001b[1;33m]\u001b[0m\u001b[1;33m.\u001b[0m\u001b[0mfilter\u001b[0m\u001b[1;33m(\u001b[0m\u001b[1;34m'lowpass'\u001b[0m\u001b[1;33m,\u001b[0m \u001b[0mfreq\u001b[0m\u001b[1;33m=\u001b[0m\u001b[1;36m0.2\u001b[0m\u001b[1;33m,\u001b[0m \u001b[0mcorners\u001b[0m\u001b[1;33m=\u001b[0m\u001b[1;36m2\u001b[0m\u001b[1;33m,\u001b[0m \u001b[0mzerophase\u001b[0m\u001b[1;33m=\u001b[0m\u001b[1;32mTrue\u001b[0m\u001b[1;33m)\u001b[0m\u001b[1;33m\u001b[0m\u001b[0m\n",
      "\u001b[1;32m<decorator-gen-153>\u001b[0m in \u001b[0;36mremove_response\u001b[1;34m(self, inventory, output, water_level, pre_filt, zero_mean, taper, taper_fraction, plot, fig, **kwargs)\u001b[0m\n",
      "\u001b[1;32m~\\Anaconda3\\lib\\site-packages\\obspy\\core\\trace.py\u001b[0m in \u001b[0;36m_add_processing_info\u001b[1;34m(func, *args, **kwargs)\u001b[0m\n\u001b[0;32m    230\u001b[0m     \u001b[0minfo\u001b[0m \u001b[1;33m=\u001b[0m \u001b[0minfo\u001b[0m \u001b[1;33m%\u001b[0m \u001b[1;34m\"::\"\u001b[0m\u001b[1;33m.\u001b[0m\u001b[0mjoin\u001b[0m\u001b[1;33m(\u001b[0m\u001b[0marguments\u001b[0m\u001b[1;33m)\u001b[0m\u001b[1;33m\u001b[0m\u001b[0m\n\u001b[0;32m    231\u001b[0m     \u001b[0mself\u001b[0m \u001b[1;33m=\u001b[0m \u001b[0margs\u001b[0m\u001b[1;33m[\u001b[0m\u001b[1;36m0\u001b[0m\u001b[1;33m]\u001b[0m\u001b[1;33m\u001b[0m\u001b[0m\n\u001b[1;32m--> 232\u001b[1;33m     \u001b[0mresult\u001b[0m \u001b[1;33m=\u001b[0m \u001b[0mfunc\u001b[0m\u001b[1;33m(\u001b[0m\u001b[1;33m*\u001b[0m\u001b[0margs\u001b[0m\u001b[1;33m,\u001b[0m \u001b[1;33m**\u001b[0m\u001b[0mkwargs\u001b[0m\u001b[1;33m)\u001b[0m\u001b[1;33m\u001b[0m\u001b[0m\n\u001b[0m\u001b[0;32m    233\u001b[0m     \u001b[1;31m# Attach after executing the function to avoid having it attached\u001b[0m\u001b[1;33m\u001b[0m\u001b[1;33m\u001b[0m\u001b[0m\n\u001b[0;32m    234\u001b[0m     \u001b[1;31m# while the operation failed.\u001b[0m\u001b[1;33m\u001b[0m\u001b[1;33m\u001b[0m\u001b[0m\n",
      "\u001b[1;32m~\\Anaconda3\\lib\\site-packages\\obspy\\core\\trace.py\u001b[0m in \u001b[0;36mremove_response\u001b[1;34m(self, inventory, output, water_level, pre_filt, zero_mean, taper, taper_fraction, plot, fig, **kwargs)\u001b[0m\n\u001b[0;32m   2819\u001b[0m         \u001b[0mfreq_response\u001b[0m\u001b[1;33m,\u001b[0m \u001b[0mfreqs\u001b[0m \u001b[1;33m=\u001b[0m\u001b[0;31m \u001b[0m\u001b[0;31m\\\u001b[0m\u001b[1;33m\u001b[0m\u001b[0m\n\u001b[0;32m   2820\u001b[0m             response.get_evalresp_response(self.stats.delta, nfft,\n\u001b[1;32m-> 2821\u001b[1;33m                                            output=output, **kwargs)\n\u001b[0m\u001b[0;32m   2822\u001b[0m \u001b[1;33m\u001b[0m\u001b[0m\n\u001b[0;32m   2823\u001b[0m         \u001b[1;32mif\u001b[0m \u001b[0mplot\u001b[0m\u001b[1;33m:\u001b[0m\u001b[1;33m\u001b[0m\u001b[0m\n",
      "\u001b[1;32m~\\Anaconda3\\lib\\site-packages\\obspy\\core\\inventory\\response.py\u001b[0m in \u001b[0;36mget_evalresp_response\u001b[1;34m(self, t_samp, nfft, output, start_stage, end_stage)\u001b[0m\n\u001b[0;32m   1429\u001b[0m \u001b[1;33m\u001b[0m\u001b[0m\n\u001b[0;32m   1430\u001b[0m         response = self.get_evalresp_response_for_frequencies(\n\u001b[1;32m-> 1431\u001b[1;33m             freqs, output=output, start_stage=start_stage, end_stage=end_stage)\n\u001b[0m\u001b[0;32m   1432\u001b[0m         \u001b[1;32mreturn\u001b[0m \u001b[0mresponse\u001b[0m\u001b[1;33m,\u001b[0m \u001b[0mfreqs\u001b[0m\u001b[1;33m\u001b[0m\u001b[0m\n\u001b[0;32m   1433\u001b[0m \u001b[1;33m\u001b[0m\u001b[0m\n",
      "\u001b[1;32m~\\Anaconda3\\lib\\site-packages\\obspy\\core\\inventory\\response.py\u001b[0m in \u001b[0;36mget_evalresp_response_for_frequencies\u001b[1;34m(self, frequencies, output, start_stage, end_stage)\u001b[0m\n\u001b[0;32m   1391\u001b[0m         output, chan = self._call_eval_resp_for_frequencies(\n\u001b[0;32m   1392\u001b[0m             \u001b[0mfrequencies\u001b[0m\u001b[1;33m,\u001b[0m \u001b[0moutput\u001b[0m\u001b[1;33m=\u001b[0m\u001b[0moutput\u001b[0m\u001b[1;33m,\u001b[0m \u001b[0mstart_stage\u001b[0m\u001b[1;33m=\u001b[0m\u001b[0mstart_stage\u001b[0m\u001b[1;33m,\u001b[0m\u001b[1;33m\u001b[0m\u001b[0m\n\u001b[1;32m-> 1393\u001b[1;33m             end_stage=end_stage)\n\u001b[0m\u001b[0;32m   1394\u001b[0m         \u001b[1;32mreturn\u001b[0m \u001b[0moutput\u001b[0m\u001b[1;33m\u001b[0m\u001b[0m\n\u001b[0;32m   1395\u001b[0m \u001b[1;33m\u001b[0m\u001b[0m\n",
      "\u001b[1;32m~\\Anaconda3\\lib\\site-packages\\obspy\\core\\inventory\\response.py\u001b[0m in \u001b[0;36m_call_eval_resp_for_frequencies\u001b[1;34m(self, frequencies, output, start_stage, end_stage, hide_sensitivity_mismatch_warning)\u001b[0m\n\u001b[0;32m   1303\u001b[0m         \u001b[0mblkt\u001b[0m\u001b[1;33m.\u001b[0m\u001b[0mtype\u001b[0m \u001b[1;33m=\u001b[0m \u001b[0mew\u001b[0m\u001b[1;33m.\u001b[0m\u001b[0mENUM_FILT_TYPES\u001b[0m\u001b[1;33m[\u001b[0m\u001b[1;34m\"GAIN\"\u001b[0m\u001b[1;33m]\u001b[0m\u001b[1;33m\u001b[0m\u001b[0m\n\u001b[0;32m   1304\u001b[0m         \u001b[0mgain_blkt\u001b[0m \u001b[1;33m=\u001b[0m \u001b[0mblkt\u001b[0m\u001b[1;33m.\u001b[0m\u001b[0mblkt_info\u001b[0m\u001b[1;33m.\u001b[0m\u001b[0mgain\u001b[0m\u001b[1;33m\u001b[0m\u001b[0m\n\u001b[1;32m-> 1305\u001b[1;33m         \u001b[0mgain_blkt\u001b[0m\u001b[1;33m.\u001b[0m\u001b[0mgain\u001b[0m \u001b[1;33m=\u001b[0m \u001b[0mself\u001b[0m\u001b[1;33m.\u001b[0m\u001b[0minstrument_sensitivity\u001b[0m\u001b[1;33m.\u001b[0m\u001b[0mvalue\u001b[0m\u001b[1;33m\u001b[0m\u001b[0m\n\u001b[0m\u001b[0;32m   1306\u001b[0m         \u001b[1;31m# Set the sensitivity frequency - use 1.0 if not given. This is also\u001b[0m\u001b[1;33m\u001b[0m\u001b[1;33m\u001b[0m\u001b[0m\n\u001b[0;32m   1307\u001b[0m         \u001b[1;31m# what evalresp does.\u001b[0m\u001b[1;33m\u001b[0m\u001b[1;33m\u001b[0m\u001b[0m\n",
      "\u001b[1;31mTypeError\u001b[0m: must be real number, not NoneType"
     ]
    }
   ],
   "source": [
    "ruta_w =  ruta_w.replace(\"info.txt\",\"stations\")\n",
    "print(ruta_w)\n",
    "os.chdir(ruta_w)\n",
    "\n",
    "for resp in XML:\n",
    "    print(resp)  # para cachar donde pueda cagar el script\n",
    "    # leemos la info del instrumento\n",
    "    inv = read_inventory(str(resp))\n",
    "    datachannel = inv.get_contents()\n",
    "    channel = datachannel['channels']  # extraer el canal correspondiente\n",
    "    # sacamos las coordenadas del canal  para t=tfiji\n",
    "    datacoor = inv.get_coordinates(channel[0], time)\n",
    "    coords = [datacoor['latitude'], datacoor['longitude'], datacoor['local_depth']]\n",
    "    # CALCULAR DISTANCIA Y AZIMUTHS EVENTO-ESTACION\n",
    "    [disti, azi, bazi] = calc_vincenty_inverse(\n",
    "        lat_e, lon_e, coords[0], coords[1])\n",
    "    greatcirc = locations2degrees(lat_e, lon_e, coords[0], coords[1])\n",
    "    # Arriv=taup.get_travel_times(source_depth_in_km=source_depth,distance_in_degree=greatcirc,phase_list=['P'],\\\n",
    "    #                      receiver_depth_in_km=coords[2])\n",
    "    # arrivals.append(Arriv)\n",
    "\n",
    "    # lol=TauPyModel.get_travel_times(source_depth_in_km=141,distance_in_degree=44,phase_list='P',receiver_depth_in_km=0.0)\n",
    "\n",
    "    # guardar todo en listas (quizá  en pandas se vería mejor?)\n",
    "    dist.append(disti)\n",
    "    az.append(azi)\n",
    "    baz.append(bazi)\n",
    "    canal.append(channel[0])\n",
    "    # remover respuesta del instrumento\n",
    "    #print(inv.get_response(channel[0], time).__dict__['response_stages'][4])\n",
    "    print(inv.get_contents().items())\n",
    "    st[c].remove_response(inventory=inv, pre_filt=pre_filt,output=\"VEL\", plot=False)\n",
    "    # aplicar un lowpass\n",
    "    st[c].filter('lowpass', freq=0.2, corners=2, zerophase=True)\n",
    "    c += 1\n"
   ]
  },
  {
   "cell_type": "markdown",
   "metadata": {},
   "source": [
    "## Graficar "
   ]
  },
  {
   "cell_type": "code",
   "execution_count": null,
   "metadata": {},
   "outputs": [],
   "source": []
  }
 ],
 "metadata": {
  "kernelspec": {
   "display_name": "Python 3",
   "language": "python",
   "name": "python3"
  },
  "language_info": {
   "codemirror_mode": {
    "name": "ipython",
    "version": 3
   },
   "file_extension": ".py",
   "mimetype": "text/x-python",
   "name": "python",
   "nbconvert_exporter": "python",
   "pygments_lexer": "ipython3",
   "version": "3.7.0"
  }
 },
 "nbformat": 4,
 "nbformat_minor": 2
}
