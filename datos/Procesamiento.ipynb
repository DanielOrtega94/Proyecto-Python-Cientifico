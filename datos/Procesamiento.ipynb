{
 "cells": [
  {
   "cell_type": "markdown",
   "metadata": {},
   "source": [
    "## filtrado"
   ]
  },
  {
   "cell_type": "code",
   "execution_count": 2,
   "metadata": {},
   "outputs": [],
   "source": [
    "from obspy import read, read_inventory,UTCDateTime\n",
    "from obspy.geodetics.base import calc_vincenty_inverse, locations2degrees\n",
    "from obspy.taup.tau import TauPyModel\n",
    "import os"
   ]
  },
  {
   "cell_type": "code",
   "execution_count": 3,
   "metadata": {},
   "outputs": [],
   "source": [
    "## cargamos las carpetas asi, pero luego en la interfaz sera automatico\n",
    "ruta = os.getcwd()\n",
    "ruta_w = ruta + \"/\"+\"datos/FIJI ISLANDS REGION2018-8-19/waveforms\"\n",
    "ruta_s = ruta + \"/\"+\"datos/FIJI ISLANDS REGION2018-8-19/stations\""
   ]
  },
  {
   "cell_type": "code",
   "execution_count": 5,
   "metadata": {},
   "outputs": [],
   "source": [
    "#leemos los archivos waveforms\n",
    "st = read(ruta_w+\"/*.mseed\")"
   ]
  },
  {
   "cell_type": "code",
   "execution_count": 6,
   "metadata": {},
   "outputs": [],
   "source": [
    "#leemos los xml\n",
    "XML = os.listdir(ruta_s)\n",
    "XML = sorted(XML)"
   ]
  },
  {
   "cell_type": "code",
   "execution_count": 7,
   "metadata": {},
   "outputs": [],
   "source": [
    "c = 0\n",
    "# un filtro para frecuencias muy altas y bajas\n",
    "pre_filt = [0.001, 0.005, 10, 20]\n",
    "dist = []\n",
    "az = []\n",
    "baz = []\n",
    "canal = []\n",
    "great_circle = []\n",
    "arrivals = []\n",
    "taup = TauPyModel()"
   ]
  },
  {
   "cell_type": "code",
   "execution_count": 8,
   "metadata": {},
   "outputs": [
    {
     "data": {
      "text/plain": [
       "{'stats':          network: AU\n",
       "         station: KNRA\n",
       "        location: 00\n",
       "         channel: BHZ\n",
       "       starttime: 2018-08-19T00:18:40.675000Z\n",
       "         endtime: 2018-08-19T01:19:40.650000Z\n",
       "   sampling_rate: 40.0\n",
       "           delta: 0.025\n",
       "            npts: 146400\n",
       "           calib: 1.0\n",
       "         _format: MSEED\n",
       "           mseed: AttribDict({'dataquality': 'M', 'number_of_records': 600, 'encoding': 'STEIM1', 'byteorder': '>', 'record_length': 512, 'filesize': 307200}),\n",
       " 'data': array([ 2219,  2245,  2259, ..., 14253, 14232, 14208])}"
      ]
     },
     "execution_count": 8,
     "metadata": {},
     "output_type": "execute_result"
    }
   ],
   "source": [
    "st.traces[0].__dict__"
   ]
  },
  {
   "cell_type": "code",
   "execution_count": 30,
   "metadata": {},
   "outputs": [],
   "source": [
    "ruta_w = ruta_w.replace(\"waveforms\",\"info.txt\")\n",
    "archivo = open(ruta_w)\n",
    "array =[]\n",
    "for element in archivo:\n",
    "    array.append(element.replace(\"\\n\",\"\"))\n",
    "#lat\n",
    "#lon\n",
    "#time"
   ]
  },
  {
   "cell_type": "code",
   "execution_count": 31,
   "metadata": {},
   "outputs": [],
   "source": [
    "lat_e = array[0]\n",
    "lon_e = array[1]\n",
    "time = UTCDateTime(array[2])"
   ]
  },
  {
   "cell_type": "markdown",
   "metadata": {},
   "source": [
    "## Remove Respuesta Instrumento"
   ]
  },
  {
   "cell_type": "code",
   "execution_count": 29,
   "metadata": {},
   "outputs": [
    {
     "name": "stdout",
     "output_type": "stream",
     "text": [
      "AU.KNRA.xml\n"
     ]
    },
    {
     "ename": "OSError",
     "evalue": "Error reading file 'AU.KNRA.xml': failed to load external entity \"AU.KNRA.xml\"",
     "output_type": "error",
     "traceback": [
      "\u001b[1;31m---------------------------------------------------------------------------\u001b[0m",
      "\u001b[1;31mOSError\u001b[0m                                   Traceback (most recent call last)",
      "\u001b[1;32m<ipython-input-29-dfb504bb1556>\u001b[0m in \u001b[0;36m<module>\u001b[1;34m()\u001b[0m\n\u001b[0;32m      2\u001b[0m     \u001b[0mprint\u001b[0m\u001b[1;33m(\u001b[0m\u001b[0mresp\u001b[0m\u001b[1;33m)\u001b[0m  \u001b[1;31m# para cachar donde pueda cagar el script\u001b[0m\u001b[1;33m\u001b[0m\u001b[0m\n\u001b[0;32m      3\u001b[0m     \u001b[1;31m# leemos la info del instrumento\u001b[0m\u001b[1;33m\u001b[0m\u001b[1;33m\u001b[0m\u001b[0m\n\u001b[1;32m----> 4\u001b[1;33m     \u001b[0minv\u001b[0m \u001b[1;33m=\u001b[0m \u001b[0mread_inventory\u001b[0m\u001b[1;33m(\u001b[0m\u001b[0mstr\u001b[0m\u001b[1;33m(\u001b[0m\u001b[0mresp\u001b[0m\u001b[1;33m)\u001b[0m\u001b[1;33m)\u001b[0m\u001b[1;33m\u001b[0m\u001b[0m\n\u001b[0m\u001b[0;32m      5\u001b[0m     \u001b[0mdatachannel\u001b[0m \u001b[1;33m=\u001b[0m \u001b[0minv\u001b[0m\u001b[1;33m.\u001b[0m\u001b[0mget_contents\u001b[0m\u001b[1;33m(\u001b[0m\u001b[1;33m)\u001b[0m\u001b[1;33m\u001b[0m\u001b[0m\n\u001b[0;32m      6\u001b[0m     \u001b[0mchannel\u001b[0m \u001b[1;33m=\u001b[0m \u001b[0mdatachannel\u001b[0m\u001b[1;33m[\u001b[0m\u001b[1;34m'channels'\u001b[0m\u001b[1;33m]\u001b[0m  \u001b[1;31m# extraer el canal correspondiente\u001b[0m\u001b[1;33m\u001b[0m\u001b[0m\n",
      "\u001b[1;32m<decorator-gen-170>\u001b[0m in \u001b[0;36mread_inventory\u001b[1;34m(path_or_file_object, format, *args, **kwargs)\u001b[0m\n",
      "\u001b[1;32m~\\Anaconda3\\lib\\site-packages\\obspy\\core\\util\\decorator.py\u001b[0m in \u001b[0;36m_map_example_filename\u001b[1;34m(func, *args, **kwargs)\u001b[0m\n\u001b[0;32m    299\u001b[0m                         \u001b[1;32mexcept\u001b[0m \u001b[0mIOError\u001b[0m\u001b[1;33m:\u001b[0m\u001b[1;33m\u001b[0m\u001b[0m\n\u001b[0;32m    300\u001b[0m                             \u001b[1;32mpass\u001b[0m\u001b[1;33m\u001b[0m\u001b[0m\n\u001b[1;32m--> 301\u001b[1;33m         \u001b[1;32mreturn\u001b[0m \u001b[0mfunc\u001b[0m\u001b[1;33m(\u001b[0m\u001b[1;33m*\u001b[0m\u001b[0margs\u001b[0m\u001b[1;33m,\u001b[0m \u001b[1;33m**\u001b[0m\u001b[0mkwargs\u001b[0m\u001b[1;33m)\u001b[0m\u001b[1;33m\u001b[0m\u001b[0m\n\u001b[0m\u001b[0;32m    302\u001b[0m     \u001b[1;32mreturn\u001b[0m \u001b[0m_map_example_filename\u001b[0m\u001b[1;33m\u001b[0m\u001b[0m\n\u001b[0;32m    303\u001b[0m \u001b[1;33m\u001b[0m\u001b[0m\n",
      "\u001b[1;32m~\\Anaconda3\\lib\\site-packages\\obspy\\core\\inventory\\inventory.py\u001b[0m in \u001b[0;36mread_inventory\u001b[1;34m(path_or_file_object, format, *args, **kwargs)\u001b[0m\n\u001b[0;32m     96\u001b[0m             \u001b[1;32mreturn\u001b[0m \u001b[0mread_inventory\u001b[0m\u001b[1;33m(\u001b[0m\u001b[0mfh\u001b[0m\u001b[1;33m.\u001b[0m\u001b[0mname\u001b[0m\u001b[1;33m,\u001b[0m \u001b[0mformat\u001b[0m\u001b[1;33m=\u001b[0m\u001b[0mformat\u001b[0m\u001b[1;33m)\u001b[0m\u001b[1;33m\u001b[0m\u001b[0m\n\u001b[0;32m     97\u001b[0m     return _read_from_plugin(\"inventory\", path_or_file_object,\n\u001b[1;32m---> 98\u001b[1;33m                              format=format, *args, **kwargs)[0]\n\u001b[0m\u001b[0;32m     99\u001b[0m \u001b[1;33m\u001b[0m\u001b[0m\n\u001b[0;32m    100\u001b[0m \u001b[1;33m\u001b[0m\u001b[0m\n",
      "\u001b[1;32m~\\Anaconda3\\lib\\site-packages\\obspy\\core\\util\\base.py\u001b[0m in \u001b[0;36m_read_from_plugin\u001b[1;34m(plugin_type, filename, format, **kwargs)\u001b[0m\n\u001b[0;32m    384\u001b[0m                 \u001b[0mposition\u001b[0m \u001b[1;33m=\u001b[0m \u001b[1;32mNone\u001b[0m\u001b[1;33m\u001b[0m\u001b[0m\n\u001b[0;32m    385\u001b[0m             \u001b[1;31m# check format\u001b[0m\u001b[1;33m\u001b[0m\u001b[1;33m\u001b[0m\u001b[0m\n\u001b[1;32m--> 386\u001b[1;33m             \u001b[0mis_format\u001b[0m \u001b[1;33m=\u001b[0m \u001b[0mis_format\u001b[0m\u001b[1;33m(\u001b[0m\u001b[0mfilename\u001b[0m\u001b[1;33m)\u001b[0m\u001b[1;33m\u001b[0m\u001b[0m\n\u001b[0m\u001b[0;32m    387\u001b[0m             \u001b[1;32mif\u001b[0m \u001b[0mposition\u001b[0m \u001b[1;32mis\u001b[0m \u001b[1;32mnot\u001b[0m \u001b[1;32mNone\u001b[0m\u001b[1;33m:\u001b[0m\u001b[1;33m\u001b[0m\u001b[0m\n\u001b[0;32m    388\u001b[0m                 \u001b[0mfilename\u001b[0m\u001b[1;33m.\u001b[0m\u001b[0mseek\u001b[0m\u001b[1;33m(\u001b[0m\u001b[1;36m0\u001b[0m\u001b[1;33m,\u001b[0m \u001b[1;36m0\u001b[0m\u001b[1;33m)\u001b[0m\u001b[1;33m\u001b[0m\u001b[0m\n",
      "\u001b[1;32m~\\Anaconda3\\lib\\site-packages\\obspy\\io\\arclink\\inventory.py\u001b[0m in \u001b[0;36m_is_inventory_xml\u001b[1;34m(path_or_file_object)\u001b[0m\n\u001b[0;32m     64\u001b[0m         \u001b[1;32melse\u001b[0m\u001b[1;33m:\u001b[0m\u001b[1;33m\u001b[0m\u001b[0m\n\u001b[0;32m     65\u001b[0m             \u001b[1;32mtry\u001b[0m\u001b[1;33m:\u001b[0m\u001b[1;33m\u001b[0m\u001b[0m\n\u001b[1;32m---> 66\u001b[1;33m                 \u001b[0mxmldoc\u001b[0m \u001b[1;33m=\u001b[0m \u001b[0metree\u001b[0m\u001b[1;33m.\u001b[0m\u001b[0mparse\u001b[0m\u001b[1;33m(\u001b[0m\u001b[0mpath_or_file_object\u001b[0m\u001b[1;33m)\u001b[0m\u001b[1;33m\u001b[0m\u001b[0m\n\u001b[0m\u001b[0;32m     67\u001b[0m             \u001b[1;32mexcept\u001b[0m \u001b[0metree\u001b[0m\u001b[1;33m.\u001b[0m\u001b[0mXMLSyntaxError\u001b[0m\u001b[1;33m:\u001b[0m\u001b[1;33m\u001b[0m\u001b[0m\n\u001b[0;32m     68\u001b[0m                 \u001b[1;32mreturn\u001b[0m \u001b[1;32mFalse\u001b[0m\u001b[1;33m\u001b[0m\u001b[0m\n",
      "\u001b[1;32msrc/lxml/etree.pyx\u001b[0m in \u001b[0;36mlxml.etree.parse\u001b[1;34m()\u001b[0m\n",
      "\u001b[1;32msrc/lxml/parser.pxi\u001b[0m in \u001b[0;36mlxml.etree._parseDocument\u001b[1;34m()\u001b[0m\n",
      "\u001b[1;32msrc/lxml/parser.pxi\u001b[0m in \u001b[0;36mlxml.etree._parseDocumentFromURL\u001b[1;34m()\u001b[0m\n",
      "\u001b[1;32msrc/lxml/parser.pxi\u001b[0m in \u001b[0;36mlxml.etree._parseDocFromFile\u001b[1;34m()\u001b[0m\n",
      "\u001b[1;32msrc/lxml/parser.pxi\u001b[0m in \u001b[0;36mlxml.etree._BaseParser._parseDocFromFile\u001b[1;34m()\u001b[0m\n",
      "\u001b[1;32msrc/lxml/parser.pxi\u001b[0m in \u001b[0;36mlxml.etree._ParserContext._handleParseResultDoc\u001b[1;34m()\u001b[0m\n",
      "\u001b[1;32msrc/lxml/parser.pxi\u001b[0m in \u001b[0;36mlxml.etree._handleParseResult\u001b[1;34m()\u001b[0m\n",
      "\u001b[1;32msrc/lxml/parser.pxi\u001b[0m in \u001b[0;36mlxml.etree._raiseParseError\u001b[1;34m()\u001b[0m\n",
      "\u001b[1;31mOSError\u001b[0m: Error reading file 'AU.KNRA.xml': failed to load external entity \"AU.KNRA.xml\""
     ]
    }
   ],
   "source": [
    "for resp in XML:\n",
    "    print(resp)  # para cachar donde pueda cagar el script\n",
    "    # leemos la info del instrumento\n",
    "    inv = read_inventory(str(resp))\n",
    "    datachannel = inv.get_contents()\n",
    "    channel = datachannel['channels']  # extraer el canal correspondiente\n",
    "    # sacamos las coordenadas del canal  para t=tfiji\n",
    "    datacoor = inv.get_coordinates(channel[0], origin_time)\n",
    "    coords = [datacoor['latitude'], datacoor[\n",
    "        'longitude'], datacoor['local_depth']]\n",
    "    # CALCULAR DISTANCIA Y AZIMUTHS EVENTO-ESTACION\n",
    "    [disti, azi, bazi] = calc_vincenty_inverse(\n",
    "        epic[0], epic[1], coords[0], coords[1])\n",
    "    greatcirc = locations2degrees(epic[0], epic[1], coords[0], coords[1])\n",
    "    # Arriv=taup.get_travel_times(source_depth_in_km=source_depth,distance_in_degree=greatcirc,phase_list=['P'],\\\n",
    "    #                      receiver_depth_in_km=coords[2])\n",
    "    # arrivals.append(Arriv)\n",
    "\n",
    "    # lol=TauPyModel.get_travel_times(source_depth_in_km=141,distance_in_degree=44,phase_list='P',receiver_depth_in_km=0.0)\n",
    "\n",
    "    # guardar todo en listas (quizá  en pandas se vería mejor?)\n",
    "    dist.append(disti)\n",
    "    az.append(azi)\n",
    "    baz.append(bazi)\n",
    "    canal.append(channel[0])\n",
    "    # remover respuesta del instrumento\n",
    "    st[c].remove_response(inventory=inv, pre_filt=pre_filt,\n",
    "                          output=\"VEL\", plot=False)\n",
    "    # aplicar un lowpass\n",
    "    st[c].filter('lowpass', freq=0.2, corners=2, zerophase=True)\n",
    "    c += 1\n"
   ]
  },
  {
   "cell_type": "markdown",
   "metadata": {},
   "source": [
    "## Graficar "
   ]
  },
  {
   "cell_type": "code",
   "execution_count": null,
   "metadata": {},
   "outputs": [],
   "source": []
  }
 ],
 "metadata": {
  "kernelspec": {
   "display_name": "Python 3",
   "language": "python",
   "name": "python3"
  },
  "language_info": {
   "codemirror_mode": {
    "name": "ipython",
    "version": 3
   },
   "file_extension": ".py",
   "mimetype": "text/x-python",
   "name": "python",
   "nbconvert_exporter": "python",
   "pygments_lexer": "ipython3",
   "version": "3.7.0"
  }
 },
 "nbformat": 4,
 "nbformat_minor": 2
}
