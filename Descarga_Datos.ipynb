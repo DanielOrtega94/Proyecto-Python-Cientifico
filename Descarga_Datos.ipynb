{
 "cells": [
  {
   "cell_type": "markdown",
   "metadata": {},
   "source": [
    "## Descarga de Datos"
   ]
  },
  {
   "cell_type": "code",
   "execution_count": 1,
   "metadata": {},
   "outputs": [],
   "source": [
    "import obspy\n",
    "from obspy.clients.fdsn import Client\n",
    "from obspy.clients.fdsn.mass_downloader import CircularDomain, Restrictions, MassDownloader\n",
    "import os"
   ]
  },
  {
   "cell_type": "code",
   "execution_count": 2,
   "metadata": {},
   "outputs": [
    {
     "name": "stdout",
     "output_type": "stream",
     "text": [
      "0 Event:\t2018-08-19T00:19:40.670000Z | -18.113, -178.154 | 8.2 mww\n",
      "\n",
      "\t            resource_id: ResourceIdentifier(id=\"smi:service.iris.edu/fdsnws/event/1/query?eventid=10937540\")\n",
      "\t             event_type: 'earthquake'\n",
      "\t    preferred_origin_id: ResourceIdentifier(id=\"smi:service.iris.edu/fdsnws/event/1/query?originid=34103486\")\n",
      "\t preferred_magnitude_id: ResourceIdentifier(id=\"smi:service.iris.edu/fdsnws/event/1/query?magnitudeid=189300238\")\n",
      "\t                   ---------\n",
      "\t     event_descriptions: 1 Elements\n",
      "\t                origins: 1 Elements\n",
      "\t             magnitudes: 1 Elements\n"
     ]
    },
    {
     "name": "stdin",
     "output_type": "stream",
     "text": [
      "seleccion un evento 0\n"
     ]
    }
   ],
   "source": [
    "client = Client(\"IRIS\")\n",
    "t1 = obspy.UTCDateTime(\"2018-08-18T00:00:00\")\n",
    "t2 = obspy.UTCDateTime(\"2018-08-21T00:00:00\")\n",
    "cat = client.get_events(starttime=t1, endtime=t2, minmagnitude=7)\n",
    "i = 0\n",
    "for elemento in cat:\n",
    "    print(i, elemento)\n",
    "    i += 1\n",
    "numero = int(input(\"seleccion un evento\"))\n",
    "evento = cat[numero]\n",
    "nombre_evento = evento.event_descriptions[0].text\n",
    "\n",
    "#lista\n",
    "origen =  cat[numero].origins "
   ]
  },
  {
   "cell_type": "code",
   "execution_count": 3,
   "metadata": {},
   "outputs": [],
   "source": [
    "nombre_evento = nombre_evento+str(origen[0].time.year)+\"-\"+str(origen[0].time.month)+\"-\"+str(origen[0].time.day)"
   ]
  },
  {
   "cell_type": "code",
   "execution_count": 4,
   "metadata": {},
   "outputs": [
    {
     "data": {
      "text/plain": [
       "'FIJI ISLANDS REGION2018-8-19'"
      ]
     },
     "execution_count": 4,
     "metadata": {},
     "output_type": "execute_result"
    }
   ],
   "source": [
    "nombre_evento"
   ]
  },
  {
   "cell_type": "code",
   "execution_count": 5,
   "metadata": {},
   "outputs": [],
   "source": [
    "lat_e = origen[0].latitude\n",
    "lon_e = origen[0].longitude\n",
    "time = origen[0].time\n",
    "depth =  origen[0].depth\n",
    "radiomin =  50.0\n",
    "radiomax =  90.0"
   ]
  },
  {
   "cell_type": "code",
   "execution_count": 6,
   "metadata": {},
   "outputs": [],
   "source": [
    "domain = CircularDomain(latitude=lat_e, longitude=lon_e, minradius = radiomin, maxradius=radiomax)"
   ]
  },
  {
   "cell_type": "code",
   "execution_count": 7,
   "metadata": {},
   "outputs": [
    {
     "name": "stderr",
     "output_type": "stream",
     "text": [
      "[2018-11-10 19:47:39,455] - obspy.clients.fdsn.mass_downloader - INFO: Initializing FDSN client(s) for IRIS.\n",
      "[2018-11-10 19:47:39,464] - obspy.clients.fdsn.mass_downloader - INFO: Successfully initialized 1 client(s): IRIS.\n"
     ]
    }
   ],
   "source": [
    "mdl = MassDownloader(providers=[\"IRIS\"])"
   ]
  },
  {
   "cell_type": "code",
   "execution_count": 8,
   "metadata": {},
   "outputs": [],
   "source": [
    "restrictions = Restrictions(\n",
    "    # Get data for a whole year.\n",
    "    # unminuto antes\n",
    "    starttime=time-60,\n",
    "    # una hora despues\n",
    "    endtime=time+3600,\n",
    "    # Chunk it to have one file per day.\n",
    "    chunklength_in_sec=86400,\n",
    "    # Considering the enormous amount of data associated with continuous\n",
    "    # requests, you might want to limit the data based on SEED identifiers.\n",
    "    # If the location code is specified, the location priority list is not\n",
    "    # used; the same is true for the channel argument and priority list.\n",
    "    location=\"00\",\n",
    "    channel=\"BHZ\",\n",
    "    # The typical use case for such a data set are noise correlations where\n",
    "    # gaps are dealt with at a later stage.\n",
    "    reject_channels_with_gaps=True,\n",
    "    # Same is true with the minimum length. All data might be useful.\n",
    "    minimum_length=0.95,\n",
    "    # Guard against the same station having different names.\n",
    "    minimum_interstation_distance_in_m=1000.0,\n",
    "    sanitize =  True)"
   ]
  },
  {
   "cell_type": "code",
   "execution_count": 9,
   "metadata": {},
   "outputs": [
    {
     "name": "stdout",
     "output_type": "stream",
     "text": [
      "D:\\Daniel\\Descargas\\proyecto_python\n",
      "D:\\Daniel\\Descargas\\proyecto_python/datos/FIJI ISLANDS REGION2018-8-19\n",
      "FIJI ISLANDS REGION2018-8-19/stations\n",
      "FIJI ISLANDS REGION2018-8-19/waveforms\n"
     ]
    }
   ],
   "source": [
    "ruta = os.getcwd()\n",
    "print(ruta)\n",
    "rutas= \"datos/\"\n",
    "informacion = ruta+ \"/\"+rutas + nombre_evento \n",
    "n_carpeta_w =  nombre_evento + \"/waveforms\"\n",
    "n_carpeta_s =  nombre_evento +  \"/stations\"\n",
    "print(informacion)\n",
    "print(n_carpeta_s)\n",
    "print(n_carpeta_w)\n"
   ]
  },
  {
   "cell_type": "code",
   "execution_count": 10,
   "metadata": {},
   "outputs": [
    {
     "name": "stdout",
     "output_type": "stream",
     "text": [
      "D:\\Daniel\\Descargas\\proyecto_python\\datos\\FIJI ISLANDS REGION2018-8-19\n"
     ]
    }
   ],
   "source": [
    "#quiero guardar la informacion para no tener que andarla buscando\n",
    "informacion =  informacion.replace(\"/\",\"\\\\\")\n",
    "print(informacion)\n",
    "os.mkdir(informacion)\n",
    "os.chdir(informacion)\n",
    "archivo = open(\"info.txt\",\"w\")\n",
    "archivo.write(str(lat_e)+\"\\n\")\n",
    "archivo.write(str(lon_e)+\"\\n\")\n",
    "archivo.write(str(time)+\"\\n\")\n",
    "archivo.close()\n",
    "os.chdir(\"..\")"
   ]
  },
  {
   "cell_type": "code",
   "execution_count": null,
   "metadata": {},
   "outputs": [
    {
     "name": "stderr",
     "output_type": "stream",
     "text": [
      "[2018-11-10 19:50:11,169] - obspy.clients.fdsn.mass_downloader - INFO: Total acquired or preexisting stations: 0\n",
      "[2018-11-10 19:50:11,170] - obspy.clients.fdsn.mass_downloader - INFO: Client 'IRIS' - Requesting reliable availability.\n",
      "[2018-11-10 19:50:13,668] - obspy.clients.fdsn.mass_downloader - INFO: Client 'IRIS' - Successfully requested availability (2.50 seconds)\n",
      "[2018-11-10 19:50:13,678] - obspy.clients.fdsn.mass_downloader - INFO: Client 'IRIS' - Found 126 stations (144 channels).\n",
      "[2018-11-10 19:50:13,681] - obspy.clients.fdsn.mass_downloader - INFO: Client 'IRIS' - Will attempt to download data from 122 stations.\n",
      "[2018-11-10 19:50:13,731] - obspy.clients.fdsn.mass_downloader - INFO: Client 'IRIS' - Status for 128 time intervals/channels before downloading: NEEDS_DOWNLOADING\n"
     ]
    }
   ],
   "source": [
    "mdl.download(domain, restrictions, mseed_storage=n_carpeta_w,stationxml_storage=n_carpeta_s)"
   ]
  }
 ],
 "metadata": {
  "kernelspec": {
   "display_name": "Python 3",
   "language": "python",
   "name": "python3"
  },
  "language_info": {
   "codemirror_mode": {
    "name": "ipython",
    "version": 3
   },
   "file_extension": ".py",
   "mimetype": "text/x-python",
   "name": "python",
   "nbconvert_exporter": "python",
   "pygments_lexer": "ipython3",
   "version": "3.7.0"
  }
 },
 "nbformat": 4,
 "nbformat_minor": 2
}
