{
 "cells": [
  {
   "cell_type": "markdown",
   "metadata": {},
   "source": [
    "## Descarga de Datos"
   ]
  },
  {
   "cell_type": "code",
   "execution_count": 1,
   "metadata": {},
   "outputs": [],
   "source": [
    "import obspy\n",
    "from obspy.clients.fdsn import Client\n",
    "from obspy.clients.fdsn.mass_downloader import CircularDomain, Restrictions, MassDownloader\n",
    "import os"
   ]
  },
  {
   "cell_type": "code",
   "execution_count": null,
   "metadata": {},
   "outputs": [
    {
     "name": "stdout",
     "output_type": "stream",
     "text": [
      "0 Event:\t2011-03-11T06:25:50.740000Z | +38.051, +144.630 | 7.6 MW\n",
      "\n",
      "\t            resource_id: ResourceIdentifier(id=\"smi:service.iris.edu/fdsnws/event/1/query?eventid=3279409\")\n",
      "\t             event_type: 'earthquake'\n",
      "\t    preferred_origin_id: ResourceIdentifier(id=\"smi:service.iris.edu/fdsnws/event/1/query?originid=18196928\")\n",
      "\t preferred_magnitude_id: ResourceIdentifier(id=\"smi:service.iris.edu/fdsnws/event/1/query?magnitudeid=176444203\")\n",
      "\t                   ---------\n",
      "\t     event_descriptions: 1 Elements\n",
      "\t                origins: 1 Elements\n",
      "\t             magnitudes: 1 Elements\n",
      "resource_id  :  smi:service.iris.edu/fdsnws/event/1/query?eventid=3279409\n",
      "event_type  :  earthquake\n",
      "event_type_certainty  :  None\n",
      "creation_info  :  None\n",
      "preferred_origin_id  :  smi:service.iris.edu/fdsnws/event/1/query?originid=18196928\n",
      "preferred_magnitude_id  :  smi:service.iris.edu/fdsnws/event/1/query?magnitudeid=176444203\n",
      "preferred_focal_mechanism_id  :  None\n",
      "event_descriptions  :  [EventDescription(text='OFF EAST COAST OF HONSHU, JAPAN', type='Flinn-Engdahl region')]\n",
      "comments  :  []\n",
      "picks  :  []\n",
      "amplitudes  :  []\n",
      "focal_mechanisms  :  []\n",
      "origins  :  [Origin(resource_id=ResourceIdentifier(id=\"smi:service.iris.edu/fdsnws/event/1/query?originid=18196928\"), time=UTCDateTime(2011, 3, 11, 6, 25, 50, 740000), longitude=144.6297, latitude=38.051, depth=19800.0, creation_info=CreationInfo(author='ISC'))]\n",
      "magnitudes  :  [Magnitude(resource_id=ResourceIdentifier(id=\"smi:service.iris.edu/fdsnws/event/1/query?magnitudeid=176444203\"), mag=7.6, magnitude_type='MW', creation_info=CreationInfo(author='GCMT'))]\n",
      "station_magnitudes  :  []\n",
      "_format  :  QUAKEML\n",
      "1 Event:\t2011-03-11T06:15:37.570000Z | +36.227, +141.088 | 7.9 MW\n",
      "\n",
      "\t            resource_id: ResourceIdentifier(id=\"smi:service.iris.edu/fdsnws/event/1/query?eventid=3279489\")\n",
      "\t             event_type: 'earthquake'\n",
      "\t    preferred_origin_id: ResourceIdentifier(id=\"smi:service.iris.edu/fdsnws/event/1/query?originid=18196823\")\n",
      "\t preferred_magnitude_id: ResourceIdentifier(id=\"smi:service.iris.edu/fdsnws/event/1/query?magnitudeid=176444131\")\n",
      "\t                   ---------\n",
      "\t     event_descriptions: 1 Elements\n",
      "\t                origins: 1 Elements\n",
      "\t             magnitudes: 1 Elements\n",
      "resource_id  :  smi:service.iris.edu/fdsnws/event/1/query?eventid=3279489\n",
      "event_type  :  earthquake\n",
      "event_type_certainty  :  None\n",
      "creation_info  :  None\n",
      "preferred_origin_id  :  smi:service.iris.edu/fdsnws/event/1/query?originid=18196823\n",
      "preferred_magnitude_id  :  smi:service.iris.edu/fdsnws/event/1/query?magnitudeid=176444131\n",
      "preferred_focal_mechanism_id  :  None\n",
      "event_descriptions  :  [EventDescription(text='NEAR EAST COAST OF HONSHU, JAPAN', type='Flinn-Engdahl region')]\n",
      "comments  :  []\n",
      "picks  :  []\n",
      "amplitudes  :  []\n",
      "focal_mechanisms  :  []\n",
      "origins  :  [Origin(resource_id=ResourceIdentifier(id=\"smi:service.iris.edu/fdsnws/event/1/query?originid=18196823\"), time=UTCDateTime(2011, 3, 11, 6, 15, 37, 570000), longitude=141.088, latitude=36.2274, depth=25400.0, creation_info=CreationInfo(author='ISC'))]\n",
      "magnitudes  :  [Magnitude(resource_id=ResourceIdentifier(id=\"smi:service.iris.edu/fdsnws/event/1/query?magnitudeid=176444131\"), mag=7.9, magnitude_type='MW', creation_info=CreationInfo(author='GCMT'))]\n",
      "station_magnitudes  :  []\n",
      "_format  :  QUAKEML\n",
      "2 Event:\t2011-03-11T05:46:23.200000Z | +38.296, +142.498 | 9.1 MW\n",
      "\n",
      "\t            resource_id: ResourceIdentifier(id=\"smi:service.iris.edu/fdsnws/event/1/query?eventid=3279407\")\n",
      "\t             event_type: 'earthquake'\n",
      "\t    preferred_origin_id: ResourceIdentifier(id=\"smi:service.iris.edu/fdsnws/event/1/query?originid=18196524\")\n",
      "\t preferred_magnitude_id: ResourceIdentifier(id=\"smi:service.iris.edu/fdsnws/event/1/query?magnitudeid=176443936\")\n",
      "\t                   ---------\n",
      "\t     event_descriptions: 1 Elements\n",
      "\t                origins: 1 Elements\n",
      "\t             magnitudes: 1 Elements\n",
      "resource_id  :  smi:service.iris.edu/fdsnws/event/1/query?eventid=3279407\n",
      "event_type  :  earthquake\n",
      "event_type_certainty  :  None\n",
      "creation_info  :  None\n",
      "preferred_origin_id  :  smi:service.iris.edu/fdsnws/event/1/query?originid=18196524\n",
      "preferred_magnitude_id  :  smi:service.iris.edu/fdsnws/event/1/query?magnitudeid=176443936\n",
      "preferred_focal_mechanism_id  :  None\n",
      "event_descriptions  :  [EventDescription(text='NEAR EAST COAST OF HONSHU, JAPAN', type='Flinn-Engdahl region')]\n",
      "comments  :  []\n",
      "picks  :  []\n",
      "amplitudes  :  []\n",
      "focal_mechanisms  :  []\n",
      "origins  :  [Origin(resource_id=ResourceIdentifier(id=\"smi:service.iris.edu/fdsnws/event/1/query?originid=18196524\"), time=UTCDateTime(2011, 3, 11, 5, 46, 23, 200000), longitude=142.498, latitude=38.2963, depth=19700.0, creation_info=CreationInfo(author='ISC'))]\n",
      "magnitudes  :  [Magnitude(resource_id=ResourceIdentifier(id=\"smi:service.iris.edu/fdsnws/event/1/query?magnitudeid=176443936\"), mag=9.1, magnitude_type='MW', creation_info=CreationInfo(author='GCMT'))]\n",
      "station_magnitudes  :  []\n",
      "_format  :  QUAKEML\n"
     ]
    }
   ],
   "source": [
    "client = Client(\"IRIS\")\n",
    "t1 = obspy.UTCDateTime(\"2011-03-11T00:00:00\")\n",
    "t2 = obspy.UTCDateTime(\"2011-03-12T00:00:00\")\n",
    "cat = client.get_events(starttime=t1, endtime=t2, minmagnitude=7)\n",
    "i = 0\n",
    "for elemento in cat:\n",
    "    #if(cat[i])\n",
    "    print(i, cat[i])\n",
    "    for element in cat[i]:\n",
    "        print(element,\" : \",cat[i][element])\n",
    "        \n",
    "    i += 1\n",
    "numero = int(input(\"seleccion un evento\"))\n",
    "evento = cat[numero]\n",
    "nombre_evento = evento.event_descriptions[0].text\n",
    "\n",
    "#lista\n",
    "origen =  cat[numero].origins "
   ]
  },
  {
   "cell_type": "code",
   "execution_count": null,
   "metadata": {},
   "outputs": [],
   "source": [
    "type(cat[0])"
   ]
  },
  {
   "cell_type": "code",
   "execution_count": null,
   "metadata": {},
   "outputs": [],
   "source": [
    "for element in cat[0]:\n",
    "    print(cat[0][element])"
   ]
  },
  {
   "cell_type": "code",
   "execution_count": null,
   "metadata": {},
   "outputs": [],
   "source": [
    "nombre_evento = nombre_evento+str(origen[0].time.year)+\"-\"+str(origen[0].time.month)+\"-\"+str(origen[0].time.day)"
   ]
  },
  {
   "cell_type": "code",
   "execution_count": null,
   "metadata": {},
   "outputs": [],
   "source": [
    "nombre_evento"
   ]
  },
  {
   "cell_type": "code",
   "execution_count": null,
   "metadata": {},
   "outputs": [],
   "source": [
    "type(origen)\n",
    "for elemen in origen:\n",
    "    print(elemen)"
   ]
  },
  {
   "cell_type": "code",
   "execution_count": null,
   "metadata": {},
   "outputs": [],
   "source": [
    "lat_e = origen[0].latitude\n",
    "lon_e = origen[0].longitude\n",
    "time = origen[0].time\n",
    "depth =  origen[0].depth\n",
    "radiomin =  50.0\n",
    "radiomax =  90.0"
   ]
  },
  {
   "cell_type": "code",
   "execution_count": null,
   "metadata": {},
   "outputs": [],
   "source": [
    "domain = CircularDomain(latitude=lat_e, longitude=lon_e, minradius = radiomin, maxradius=radiomax)"
   ]
  },
  {
   "cell_type": "code",
   "execution_count": null,
   "metadata": {},
   "outputs": [],
   "source": [
    "mdl = MassDownloader(providers=[\"IRIS\"])"
   ]
  },
  {
   "cell_type": "code",
   "execution_count": null,
   "metadata": {},
   "outputs": [],
   "source": [
    "restrictions = Restrictions(\n",
    "    # Get data for a whole year.\n",
    "    # unminuto antes\n",
    "    starttime=time-60,\n",
    "    # una hora despues\n",
    "    endtime=time+3600,\n",
    "    # Chunk it to have one file per day.\n",
    "    chunklength_in_sec=86400,\n",
    "    # Considering the enormous amount of data associated with continuous\n",
    "    # requests, you might want to limit the data based on SEED identifiers.\n",
    "    # If the location code is specified, the location priority list is not\n",
    "    # used; the same is true for the channel argument and priority list.\n",
    "    location=\"00\",\n",
    "    channel=\"BHZ\",\n",
    "    # The typical use case for such a data set are noise correlations where\n",
    "    # gaps are dealt with at a later stage.\n",
    "    reject_channels_with_gaps=True,\n",
    "    # Same is true with the minimum length. All data might be useful.\n",
    "    minimum_length=0.95,\n",
    "    # Guard against the same station having different names.\n",
    "    minimum_interstation_distance_in_m=1000.0,\n",
    "    sanitize =  True)"
   ]
  },
  {
   "cell_type": "code",
   "execution_count": null,
   "metadata": {},
   "outputs": [],
   "source": [
    "ruta = os.getcwd()\n",
    "print(ruta)\n",
    "rutas= \"datos/\"\n",
    "informacion = ruta+ \"/\"+rutas + nombre_evento \n",
    "n_carpeta_w =  nombre_evento + \"/waveforms\"\n",
    "n_carpeta_s =  nombre_evento +  \"/stations\"\n",
    "print(informacion)\n",
    "print(n_carpeta_s)\n",
    "print(n_carpeta_w)\n"
   ]
  },
  {
   "cell_type": "code",
   "execution_count": null,
   "metadata": {},
   "outputs": [],
   "source": [
    "#quiero guardar la informacion para no tener que andarla buscando\n",
    "informacion =  informacion.replace(\"/\",\"\\\\\")\n",
    "print(informacion)\n",
    "os.mkdir(informacion)\n",
    "os.chdir(informacion)\n",
    "archivo = open(\"info.txt\",\"w\")\n",
    "archivo.write(str(lat_e)+\"\\n\")\n",
    "archivo.write(str(lon_e)+\"\\n\")\n",
    "archivo.write(str(time)+\"\\n\")\n",
    "archivo.close()\n",
    "os.chdir(\"..\")"
   ]
  },
  {
   "cell_type": "code",
   "execution_count": null,
   "metadata": {},
   "outputs": [],
   "source": [
    "mdl.download(domain, restrictions, mseed_storage=n_carpeta_w,stationxml_storage=n_carpeta_s)"
   ]
  }
 ],
 "metadata": {
  "kernelspec": {
   "display_name": "Python 3",
   "language": "python",
   "name": "python3"
  },
  "language_info": {
   "codemirror_mode": {
    "name": "ipython",
    "version": 3
   },
   "file_extension": ".py",
   "mimetype": "text/x-python",
   "name": "python",
   "nbconvert_exporter": "python",
   "pygments_lexer": "ipython3",
   "version": "3.7.0"
  }
 },
 "nbformat": 4,
 "nbformat_minor": 2
}
